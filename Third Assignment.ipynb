{
 "cells": [
  {
   "cell_type": "markdown",
   "metadata": {
    "id": "Ui8LKXjlii3V"
   },
   "source": [
    "### 1) Write a program to print the maximum between two numbers. (one-line conditional statement)\n"
   ]
  },
  {
   "cell_type": "code",
   "execution_count": 4,
   "metadata": {},
   "outputs": [
    {
     "name": "stdout",
     "output_type": "stream",
     "text": [
      "9\n"
     ]
    }
   ],
   "source": [
    "x=1\n",
    "y=9\n",
    "print(x if x>y else y)"
   ]
  },
  {
   "cell_type": "markdown",
   "metadata": {
    "id": "xQB_yP4rirZS"
   },
   "source": [
    "### 2) Write a program to find the maximum between three numbers.\n"
   ]
  },
  {
   "cell_type": "code",
   "execution_count": 17,
   "metadata": {},
   "outputs": [
    {
     "name": "stdout",
     "output_type": "stream",
     "text": [
      "9\n"
     ]
    }
   ],
   "source": [
    "x,y,z=1,9,7\n",
    "print(max(x, y, z))"
   ]
  },
  {
   "cell_type": "markdown",
   "metadata": {
    "id": "di3xEq8mjBRK"
   },
   "source": [
    "### 3) Write a program to check whether a number is negative, or positive (one-line conditional statement)\n"
   ]
  },
  {
   "cell_type": "code",
   "execution_count": 12,
   "metadata": {},
   "outputs": [
    {
     "name": "stdout",
     "output_type": "stream",
     "text": [
      "enter a number 0\n",
      "0 isn't positive nor negative\n"
     ]
    }
   ],
   "source": [
    "x=int(input(\"enter a number \"))\n",
    "if x>0:\n",
    "    print(\"number is positive\")\n",
    "elif x<0:\n",
    "    print(\"number is negative\")\n",
    "else:\n",
    "    print(\"0 isn't positive nor negative\")"
   ]
  },
  {
   "cell_type": "markdown",
   "metadata": {
    "id": "grc5Gk_RjFBe"
   },
   "source": [
    "### 4) Write a  program to check whether a number is even or odd  (one-line statement).\n"
   ]
  },
  {
   "cell_type": "code",
   "execution_count": 15,
   "metadata": {},
   "outputs": [
    {
     "name": "stdout",
     "output_type": "stream",
     "text": [
      "enter a number: 2\n",
      "number is even\n"
     ]
    }
   ],
   "source": [
    "x=int(input(\"enter a number: \"))\n",
    "if x%2==0:\n",
    "    print(\"number is even\")\n",
    "else:\n",
    "    print(\"number is odd\")"
   ]
  },
  {
   "cell_type": "markdown",
   "metadata": {
    "id": "JeN4yaIMjNlC"
   },
   "source": [
    "### 5) Write a  program to store the weekdays in a list and access the week day and print it by index.\n"
   ]
  },
  {
   "cell_type": "code",
   "execution_count": 89,
   "metadata": {},
   "outputs": [
    {
     "name": "stdout",
     "output_type": "stream",
     "text": [
      "enter a number: 6\n",
      "Sunday\n"
     ]
    }
   ],
   "source": [
    "x= [\"Monday\", \"Tuesday\", \"Wednesday\", \"Thursday\", \"Friday\", \"Saturday\", \"Sunday\"]\n",
    "v = int(input(\"enter a number: \"))\n",
    "if(0<=v and v<len(x)):\n",
    "  print(x[v])\n",
    "else:\n",
    "  print(\"Invalid index\")"
   ]
  },
  {
   "cell_type": "markdown",
   "metadata": {
    "id": "PkPPTrivjran"
   },
   "source": [
    "### 6)Write a program to store numbers in the List and print its reverse"
   ]
  },
  {
   "cell_type": "code",
   "execution_count": 90,
   "metadata": {},
   "outputs": [
    {
     "name": "stdout",
     "output_type": "stream",
     "text": [
      "[9, 8, 7, 6, 5, 4, 3, 2, 1]\n"
     ]
    }
   ],
   "source": [
    "x=[1,2,3,4,5,6,7,8,9]\n",
    "x.reverse()\n",
    "print(x)"
   ]
  },
  {
   "cell_type": "markdown",
   "metadata": {
    "id": "2JoHNIaCj7fR"
   },
   "source": [
    "### 7) Write a program to print the multiplcation table of any number"
   ]
  },
  {
   "cell_type": "code",
   "execution_count": 95,
   "metadata": {},
   "outputs": [
    {
     "name": "stdout",
     "output_type": "stream",
     "text": [
      "enter a number6\n",
      "6\n",
      "12\n",
      "18\n",
      "24\n",
      "30\n",
      "36\n",
      "42\n",
      "48\n",
      "54\n",
      "60\n",
      "66\n"
     ]
    }
   ],
   "source": [
    "x=int(input(\"enter a number\"))\n",
    "for i in range(1,12):\n",
    "    print(i*x)"
   ]
  },
  {
   "cell_type": "markdown",
   "metadata": {
    "id": "WTIX9yh1kLs-"
   },
   "source": [
    "### 8) Write a program to print all even numbers between 1 to 100.(using while loop and for loop)"
   ]
  },
  {
   "cell_type": "code",
   "execution_count": 107,
   "metadata": {},
   "outputs": [
    {
     "name": "stdout",
     "output_type": "stream",
     "text": [
      "2\n",
      "4\n",
      "6\n",
      "8\n",
      "10\n",
      "12\n",
      "14\n",
      "16\n",
      "18\n",
      "20\n",
      "22\n",
      "24\n",
      "26\n",
      "28\n",
      "30\n",
      "32\n",
      "34\n",
      "36\n",
      "38\n",
      "40\n",
      "42\n",
      "44\n",
      "46\n",
      "48\n",
      "50\n",
      "52\n",
      "54\n",
      "56\n",
      "58\n",
      "60\n",
      "62\n",
      "64\n",
      "66\n",
      "68\n",
      "70\n",
      "72\n",
      "74\n",
      "76\n",
      "78\n",
      "80\n",
      "82\n",
      "84\n",
      "86\n",
      "88\n",
      "90\n",
      "92\n",
      "94\n",
      "96\n",
      "98\n",
      "100\n"
     ]
    }
   ],
   "source": [
    "x=1\n",
    "while x<=100:\n",
    " if x%2==0:\n",
    "    print(x)\n",
    " x+=1"
   ]
  },
  {
   "cell_type": "code",
   "execution_count": null,
   "metadata": {},
   "outputs": [],
   "source": []
  }
 ],
 "metadata": {
  "colab": {
   "private_outputs": true,
   "provenance": []
  },
  "kernelspec": {
   "display_name": "Python 3 (ipykernel)",
   "language": "python",
   "name": "python3"
  },
  "language_info": {
   "codemirror_mode": {
    "name": "ipython",
    "version": 3
   },
   "file_extension": ".py",
   "mimetype": "text/x-python",
   "name": "python",
   "nbconvert_exporter": "python",
   "pygments_lexer": "ipython3",
   "version": "3.11.7"
  }
 },
 "nbformat": 4,
 "nbformat_minor": 1
}
